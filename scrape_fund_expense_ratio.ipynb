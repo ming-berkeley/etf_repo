{
 "cells": [
  {
   "cell_type": "code",
   "execution_count": null,
   "metadata": {},
   "outputs": [],
   "source": [
    "from bs4 import BeautifulSoup\n",
    "import re\n",
    "\n",
    "from selenium import webdriver\n",
    "from selenium.common.exceptions import NoSuchElementException\n",
    "from selenium.webdriver.common.keys import Keys\n",
    "from selenium.webdriver.common.by import By\n",
    "\n",
    "import time\n",
    "import pandas as pd\n",
    "\n",
    "\n",
    "# driver = webdriver.Chrome()\n",
    "driver = webdriver.Edge()"
   ]
  },
  {
   "cell_type": "markdown",
   "metadata": {},
   "source": [
    "## The following code extracts fund info from Vanguard"
   ]
  },
  {
   "cell_type": "code",
   "execution_count": null,
   "metadata": {},
   "outputs": [],
   "source": [
    "driver.get(\"https://investor.vanguard.com/investment-products/list/all?filters=open\")\n",
    "time.sleep(3)\n",
    "\n",
    "data = []\n",
    "\n",
    "while True:\n",
    "    soup = BeautifulSoup(driver.page_source, \"html.parser\")            \n",
    "    div_table = soup.find(\"div\", id=\"assetAllocationTableExportDiv\")\n",
    "    table = div_table.find(\"table\")\n",
    "        \n",
    "    for tr in table.find(\"tbody\").find_all(\"tr\"):\n",
    "        symbol = tr.find(\"span\", attrs={\"data-rpa-tag-id\": \"symbol\"}).get_text(strip=True)\n",
    "        fund_name = tr.find(\"a\", attrs={\"data-rpa-tag-id\": \"longName\"}).get_text(strip=True)\n",
    "        er = tr.find(\"p\", attrs={\"data-rpa-tag-id\": \"expenseRatio\"}).get_text(strip=True).rstrip('%')        \n",
    "        data.append({\"symbol\": symbol, \"fund_name\": fund_name, \"expense_ratio\": er})\n",
    "    \n",
    "    try:\n",
    "        next_button = driver.find_element(By.CSS_SELECTOR, 'button[title=\"next page\"]')        \n",
    "        driver.execute_script(\"arguments[0].scrollIntoView({behavior: 'smooth', block: 'center'});\", next_button)\n",
    "        time.sleep(3)      \n",
    "        next_button.click()       \n",
    "    except:\n",
    "        print(\"No next button found\")\n",
    "        break\n"
   ]
  }
 ],
 "metadata": {
  "kernelspec": {
   "display_name": "venv",
   "language": "python",
   "name": "python3"
  },
  "language_info": {
   "name": "python",
   "version": "3.11.9"
  }
 },
 "nbformat": 4,
 "nbformat_minor": 2
}
