{
 "cells": [
  {
   "cell_type": "code",
   "execution_count": null,
   "id": "7a067306",
   "metadata": {},
   "outputs": [],
   "source": [
    "import duckdb"
   ]
  },
  {
   "cell_type": "code",
   "execution_count": 4,
   "id": "ddbb325a",
   "metadata": {},
   "outputs": [
    {
     "data": {
      "text/plain": [
       "┌──────────────────────────────┬─────────────┬─────────┬─────────┬─────────┬─────────┐\n",
       "│         column_name          │ column_type │  null   │   key   │ default │  extra  │\n",
       "│           varchar            │   varchar   │ varchar │ varchar │ varchar │ varchar │\n",
       "├──────────────────────────────┼─────────────┼─────────┼─────────┼─────────┼─────────┤\n",
       "│ symbol                       │ VARCHAR     │ YES     │ NULL    │ NULL    │ NULL    │\n",
       "│ etf_name                     │ VARCHAR     │ YES     │ NULL    │ NULL    │ NULL    │\n",
       "│ total_assets                 │ VARCHAR     │ YES     │ NULL    │ NULL    │ NULL    │\n",
       "│ ytd                          │ VARCHAR     │ YES     │ NULL    │ NULL    │ NULL    │\n",
       "│ avg_volume                   │ VARCHAR     │ YES     │ NULL    │ NULL    │ NULL    │\n",
       "│ previous_closing_price       │ VARCHAR     │ YES     │ NULL    │ NULL    │ NULL    │\n",
       "│ 1_day_change                 │ VARCHAR     │ YES     │ NULL    │ NULL    │ NULL    │\n",
       "│ 1_week                       │ VARCHAR     │ YES     │ NULL    │ NULL    │ NULL    │\n",
       "│ 1_month                      │ VARCHAR     │ YES     │ NULL    │ NULL    │ NULL    │\n",
       "│ 1_year                       │ VARCHAR     │ YES     │ NULL    │ NULL    │ NULL    │\n",
       "│   ·                          │    ·        │  ·      │  ·      │  ·      │  ·      │\n",
       "│   ·                          │    ·        │  ·      │  ·      │  ·      │  ·      │\n",
       "│   ·                          │    ·        │  ·      │  ·      │  ·      │  ·      │\n",
       "│ resistance_1                 │ VARCHAR     │ YES     │ NULL    │ NULL    │ NULL    │\n",
       "│ rsi                          │ VARCHAR     │ YES     │ NULL    │ NULL    │ NULL    │\n",
       "│ liquidity_rating             │ VARCHAR     │ YES     │ NULL    │ NULL    │ NULL    │\n",
       "│ expenses_rating              │ VARCHAR     │ YES     │ NULL    │ NULL    │ NULL    │\n",
       "│ esg_score                    │ VARCHAR     │ YES     │ NULL    │ NULL    │ NULL    │\n",
       "│ esg_score_peer_percentile    │ VARCHAR     │ YES     │ NULL    │ NULL    │ NULL    │\n",
       "│ esg_score_global_percentile  │ VARCHAR     │ YES     │ NULL    │ NULL    │ NULL    │\n",
       "│ carbon_intensity             │ VARCHAR     │ YES     │ NULL    │ NULL    │ NULL    │\n",
       "│ sri_exclusion_criteria       │ VARCHAR     │ YES     │ NULL    │ NULL    │ NULL    │\n",
       "│ sustainable_impact_solutions │ VARCHAR     │ YES     │ NULL    │ NULL    │ NULL    │\n",
       "├──────────────────────────────┴─────────────┴─────────┴─────────┴─────────┴─────────┤\n",
       "│ 40 rows (20 shown)                                                       6 columns │\n",
       "└────────────────────────────────────────────────────────────────────────────────────┘"
      ]
     },
     "execution_count": 4,
     "metadata": {},
     "output_type": "execute_result"
    }
   ],
   "source": [
    "duckdb.sql(\"DESCRIBE SELECT * FROM 'etf_info.parquet'\")"
   ]
  },
  {
   "cell_type": "code",
   "execution_count": 5,
   "id": "504179c2",
   "metadata": {},
   "outputs": [],
   "source": [
    "duckdb.sql(\"CREATE TABLE etf AS SELECT * FROM 'etf_info.parquet'\")"
   ]
  },
  {
   "cell_type": "code",
   "execution_count": 6,
   "id": "1f5cac37",
   "metadata": {},
   "outputs": [
    {
     "name": "stdout",
     "output_type": "stream",
     "text": [
      "┌─────────┬────────────────────────────────────────────────────────────┬──────────────┬─────────┬────────────┬────────────────────────┬──────────────┬─────────┬─────────┬─────────┬─────────┬─────────┬───────────────────────┬────────────┬─────────┬─────────────────┬──────────────────────┬───────────────┬──────────┬─────────────────────────┬───────────┬─────────┬───────────────┬─────────────┬──────────────────┬──────────────────┬──────────┬─────────────────┬─────────────────┬───────────┬──────────────┬─────────┬──────────────────┬─────────────────┬───────────┬───────────────────────────┬─────────────────────────────┬──────────────────┬────────────────────────┬──────────────────────────────┐\n",
      "│ symbol  │                          etf_name                          │ total_assets │   ytd   │ avg_volume │ previous_closing_price │ 1_day_change │ 1_week  │ 1_month │ 1_year  │ 3_year  │ 5_year  │ etf_database_category │ inception  │   er    │ commission_free │ annual_dividend_rate │ dividend_date │ dividend │ annual_dividend_yield_% │ p/e_ratio │  beta   │ #_of_holdings │ %_in_top_10 │ st_cap_gain_rate │ lt_cap_gain_rate │ tax_form │ lower_bollinger │ upper_bollinger │ support_1 │ resistance_1 │   rsi   │ liquidity_rating │ expenses_rating │ esg_score │ esg_score_peer_percentile │ esg_score_global_percentile │ carbon_intensity │ sri_exclusion_criteria │ sustainable_impact_solutions │\n",
      "│ varchar │                          varchar                           │   varchar    │ varchar │  varchar   │        varchar         │   varchar    │ varchar │ varchar │ varchar │ varchar │ varchar │        varchar        │  varchar   │ varchar │     varchar     │       varchar        │    varchar    │ varchar  │         varchar         │  varchar  │ varchar │    varchar    │   varchar   │     varchar      │     varchar      │ varchar  │     varchar     │     varchar     │  varchar  │   varchar    │ varchar │     varchar      │     varchar     │  varchar  │          varchar          │           varchar           │     varchar      │        varchar         │           varchar            │\n",
      "├─────────┼────────────────────────────────────────────────────────────┼──────────────┼─────────┼────────────┼────────────────────────┼──────────────┼─────────┼─────────┼─────────┼─────────┼─────────┼───────────────────────┼────────────┼─────────┼─────────────────┼──────────────────────┼───────────────┼──────────┼─────────────────────────┼───────────┼─────────┼───────────────┼─────────────┼──────────────────┼──────────────────┼──────────┼─────────────────┼─────────────────┼───────────┼──────────────┼─────────┼──────────────────┼─────────────────┼───────────┼───────────────────────────┼─────────────────────────────┼──────────────────┼────────────────────────┼──────────────────────────────┤\n",
      "│ AADR    │ AdvisorShares Dorsey WrightADRETF                          │ $44.92       │ 23.10%  │ 4,100      │ $84.72                 │ -0.20%       │ -0.57%  │ 2.78%   │ 35.79%  │ 22.85%  │ 10.12%  │ Global Equities       │ 2010-07-20 │ 1.10%   │ N/A             │ $0.59                │ 2025-06-23    │ $0.20    │ 0.70%                   │ 0.08      │ 0.99    │ 39            │ 36.66%      │ 40%              │ 20%              │ 1099     │ $81.11          │ $85.94          │ $84.06    │ $85.59       │ 61.47   │ C+               │ N/A             │ 6.17      │ 0.59%                     │ 39.37%                      │ 180.63           │ 11.32%                 │ 5.92%                        │\n",
      "│ AALG    │ Leverage Shares 2X LongAALDailyETF                         │ $0.65        │ N/A     │ N/A        │ $13.16                 │ 1.46%        │ -6.34%  │ -10.98% │ N/A     │ N/A     │ N/A     │ N/A                   │ 2025-07-11 │ 0.75%   │ N/A             │ $0.00                │ N/A           │ N/A      │ 0.00%                   │ N/A       │ N/A     │ 2             │ 100.00%     │ 40%              │ 20%              │ 1099     │ $12.71          │ $15.60          │ N/A       │ N/A          │ 46.10   │ N/A              │ N/A             │ 0.0       │ N/A                       │ N/A                         │ N/A              │ N/A                    │ N/A                          │\n",
      "│ AAPB    │ GraniteShares 2x LongAAPLDailyETF                          │ $32.16       │ -21.96% │ 394,614    │ $26.35                 │ -0.94%       │ 6.78%   │ 4.33%   │ -2.47%  │ 14.13%  │ N/A     │ Leveraged Equities    │ 2022-08-09 │ 1.15%   │ N/A             │ $0.00                │ 2023-12-27    │ $4.31    │ 0.00%                   │ 0.00      │ -2.23   │ 1             │ 100.00%     │ 40%              │ 20%              │ 1099     │ $23.46          │ $27.40          │ $25.95    │ $26.88       │ 59.54   │ B+               │ N/A             │ 0.0       │ N/A                       │ N/A                         │ N/A              │ N/A                    │ N/A                          │\n",
      "│ AAPD    │ Direxion DailyAAPLBear 1X SharesETF                        │ $25.24       │ 0.49%   │ 1,249,364  │ $15.13                 │ 0.40%        │ -3.26%  │ -2.58%  │ -10.66% │ -14.89% │ N/A     │ Inverse Equities      │ 2022-08-09 │ 1.00%   │ N/A             │ $0.55                │ 2025-06-24    │ $0.12    │ 3.62%                   │ 0.00      │ 1.30    │ 1             │ 100.00%     │ 40%              │ 20%              │ 1099     │ $14.82          │ $16.07          │ $14.98    │ $15.25       │ 39.34   │ N/A              │ C               │ 5.25      │ 13.64%                    │ 22.49%                      │ 1.69             │ 0.00%                  │ 0.01%                        │\n",
      "│ AAPR    │ Innovator Equity Defined ProtectionETF– 2 Yr to April 2026 │ $58.50       │ 5.73%   │ 3,803      │ $27.87                 │ 0.14%        │ 0.05%   │ 0.92%   │ 7.03%   │ N/A     │ N/A     │ N/A                   │ 2024-04-01 │ 0.79%   │ N/A             │ $0.00                │ N/A           │ N/A      │ 0.00%                   │ N/A       │ N/A     │ 2             │ 100.00%     │ 40%              │ 20%              │ 1099     │ $27.56          │ $27.91          │ $27.85    │ $27.89       │ 71.51   │ C+               │ N/A             │ 0.0       │ N/A                       │ N/A                         │ N/A              │ N/A                    │ N/A                          │\n",
      "└─────────┴────────────────────────────────────────────────────────────┴──────────────┴─────────┴────────────┴────────────────────────┴──────────────┴─────────┴─────────┴─────────┴─────────┴─────────┴───────────────────────┴────────────┴─────────┴─────────────────┴──────────────────────┴───────────────┴──────────┴─────────────────────────┴───────────┴─────────┴───────────────┴─────────────┴──────────────────┴──────────────────┴──────────┴─────────────────┴─────────────────┴───────────┴──────────────┴─────────┴──────────────────┴─────────────────┴───────────┴───────────────────────────┴─────────────────────────────┴──────────────────┴────────────────────────┴──────────────────────────────┘\n",
      "\n"
     ]
    }
   ],
   "source": [
    "duckdb.sql(\"SELECT * FROM etf LIMIT 5\").show()"
   ]
  },
  {
   "cell_type": "code",
   "execution_count": null,
   "id": "caece027",
   "metadata": {},
   "outputs": [],
   "source": []
  }
 ],
 "metadata": {
  "kernelspec": {
   "display_name": "venv (3.13.3)",
   "language": "python",
   "name": "python3"
  },
  "language_info": {
   "codemirror_mode": {
    "name": "ipython",
    "version": 3
   },
   "file_extension": ".py",
   "mimetype": "text/x-python",
   "name": "python",
   "nbconvert_exporter": "python",
   "pygments_lexer": "ipython3",
   "version": "3.13.3"
  }
 },
 "nbformat": 4,
 "nbformat_minor": 5
}
